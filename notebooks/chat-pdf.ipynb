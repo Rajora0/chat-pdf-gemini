{
 "cells": [
  {
   "cell_type": "code",
   "execution_count": 13,
   "metadata": {},
   "outputs": [
    {
     "data": {
      "text/plain": [
       "True"
      ]
     },
     "execution_count": 13,
     "metadata": {},
     "output_type": "execute_result"
    }
   ],
   "source": [
    "import os\n",
    "from dotenv import load_dotenv\n",
    "\n",
    "load_dotenv()"
   ]
  },
  {
   "cell_type": "code",
   "execution_count": 16,
   "metadata": {},
   "outputs": [
    {
     "name": "stderr",
     "output_type": "stream",
     "text": [
      "/home/rafael/.pyenv/versions/3.10.14/envs/chat-pdf-api/lib/python3.10/site-packages/tqdm/auto.py:21: TqdmWarning: IProgress not found. Please update jupyter and ipywidgets. See https://ipywidgets.readthedocs.io/en/stable/user_install.html\n",
      "  from .autonotebook import tqdm as notebook_tqdm\n"
     ]
    }
   ],
   "source": [
    "from PyPDF2 import PdfReader\n",
    "\n",
    "from langchain.text_splitter import CharacterTextSplitter\n",
    "from langchain.embeddings import HuggingFaceEmbeddings\n",
    "from langchain.vectorstores import faiss\n",
    "from langchain.prompts import PromptTemplate\n",
    "from langchain.memory import ConversationBufferMemory\n",
    "from langchain.chains import ConversationalRetrievalChain\n",
    "\n",
    "# from langchain_huggingface import HuggingFaceEmbeddings\n",
    "\n",
    "from langchain_google_genai import ChatGoogleGenerativeAI\n",
    "from google.generativeai.types.safety_types import (\n",
    "    HarmBlockThreshold,\n",
    "    HarmCategory,\n",
    ")"
   ]
  },
  {
   "cell_type": "code",
   "execution_count": 17,
   "metadata": {},
   "outputs": [
    {
     "name": "stderr",
     "output_type": "stream",
     "text": [
      "WARNING: All log messages before absl::InitializeLog() is called are written to STDERR\n",
      "I0000 00:00:1721332437.794788  194195 config.cc:230] gRPC experiments enabled: call_status_override_on_cancellation, event_engine_dns, event_engine_listener, http2_stats_fix, monitoring_experiment, pick_first_new, trace_record_callops, work_serializer_clears_time_cache\n",
      "I0000 00:00:1721332437.807899  194195 check_gcp_environment.cc:61] BIOS data file does not exist or cannot be opened.\n"
     ]
    }
   ],
   "source": [
    "llm = ChatGoogleGenerativeAI(\n",
    "            model=\"gemini-1.5-flash\",\n",
    "            temperature=0,\n",
    "            max_output_tokens=256,\n",
    "            top_k=10,\n",
    "            safety_settings={\n",
    "                HarmCategory.HARM_CATEGORY_DANGEROUS_CONTENT: HarmBlockThreshold.BLOCK_NONE,\n",
    "                HarmCategory.HARM_CATEGORY_HATE_SPEECH: HarmBlockThreshold.BLOCK_NONE,\n",
    "                HarmCategory.HARM_CATEGORY_HARASSMENT: HarmBlockThreshold.BLOCK_NONE,\n",
    "                HarmCategory.HARM_CATEGORY_SEXUALLY_EXPLICIT: HarmBlockThreshold.BLOCK_NONE,\n",
    "            },\n",
    ")"
   ]
  },
  {
   "cell_type": "code",
   "execution_count": 18,
   "metadata": {},
   "outputs": [],
   "source": [
    "# creating custom template to guide llm model\n",
    "custom_template = \"\"\"Given the following conversation and a follow up question, rephrase the follow up question to be a standalone question, in its original language.\n",
    "Chat History:\n",
    "{chat_history}\n",
    "Follow Up Input: {question}\n",
    "Standalone question:\"\"\"\n",
    "\n",
    "CUSTOM_QUESTION_PROMPT = PromptTemplate.from_template(custom_template)"
   ]
  },
  {
   "cell_type": "code",
   "execution_count": 19,
   "metadata": {},
   "outputs": [
    {
     "name": "stdout",
     "output_type": "stream",
     "text": [
      "Madam Speaker, Madam Vice President, our First Lady and Second Gentleman. Members of Congress \n",
      "and the Cabinet. Justices of the Supreme Court. My fellow Americans.  \n",
      "Last year COVID -19 kept us apart. This year we are finally together again. Tonight, we meet as \n",
      "Democrats, Republicans, and Independents. But most importantly as Americans. With a duty to one \n",
      "another, to the American people, to the Constitution. And with an  unwavering resolve that freedom will \n",
      "always triumph over tyranny.  \n",
      " \n",
      "Six days ago, Russia’s Vladimir Putin sought to shake the foundations of the free world, thinking he could \n",
      "make it bend to his menacing ways. But he badly miscalculated. He thought he could roll into Ukraine \n",
      "and the world would roll over. Instead, he met a  wall of strength he never imagined. He met the \n",
      "Ukrainian people. From President Zelenskyy to every Ukrainian, their fearlessness, their courage, their \n",
      "determination, inspires the world.  \n",
      " \n",
      "Groups of citizens blocking tanks with their bodies. Everyone from students to retirees, teachers turned \n",
      "soldiers defending their homeland. In this struggle, as President Zelenskyy said in his speech to the \n",
      "European Parliament, “Light will win over darknes s.” The Ukrainian Ambassador to the United States is \n",
      "here tonight. Let each of us here tonight in this Chamber send an unmistakable signal to Ukraine and to \n",
      "the world.  \n",
      " \n",
      "Please rise if you are able and show that, Yes, we the United States of America stand with the Ukrainian \n",
      "people. Throughout our history, we’ve learned this lesson: when dictators do not pay a price for their \n",
      "aggression, they cause more chaos. They keep mov ing. And the costs and the threats to America and the \n",
      "world keep rising.  \n",
      " \n",
      "That’s why the NATO Alliance was created to secure peace and stability in Europe after World War 2. The \n",
      "United States is a member, along with 29 other nations. It matters. American diplomacy matters. \n",
      "American resolve matters. Putin’s latest attack on Ukrai ne was premeditated and unprovoked. He \n",
      "rejected repeated efforts at diplomacy. He thought the West and NATO wouldn’t respond. And he \n",
      "thought he could divide us at home. Putin was wrong. We were ready. Here is what we did.  \n",
      " \n",
      "We prepared extensively and carefully. We spent months building a coalition of other freedom -loving \n",
      "nations from Europe and the Americas to Asia and Africa to confront Putin. I spent countless hours \n",
      "unifying our European allies. We shared with the world in  advance what we knew Putin was planning \n",
      "and precisely how he would try to falsely justify his aggression. We countered Russia’s lies with truth. \n",
      "And now that he has acted, the free world is holding him accountable.  \n",
      " Along with twenty -seven members of the European Union, including France, Germany, Italy, as well as \n",
      "countries like the United Kingdom, Canada, Japan, Korea, Australia, New Zealand, and many others, even \n",
      "Switzerland. We are inflicting pain on Russia and sup porting the people of Ukraine. Putin is now isolated \n",
      "from the world more than ever.  \n",
      " \n",
      "Together with our allies, we are right now enforcing powerful economic sanctions. We are cutting off \n",
      "Russia’s largest banks from the international financial system. Preventing Russia’s central bank from \n",
      "defending the Russian Ruble, making Putin’s $630 Bill ion “war fund” worthless. We are choking off \n",
      "Russia’s access to technology that will sap its economic strength and weaken its military for years to \n",
      "come.  \n",
      " \n",
      "Tonight I say to the Russian oligarchs and corrupt leaders who have bilked billions of dollars off this \n",
      "violent regime: no more. The U.S. Department of Justice is assembling a dedicated task force to go after \n",
      "the crimes of Russian oligarchs. We are joining  with our European allies to find and seize your yachts, \n",
      "your luxury apartments, your private jets. We are coming for your ill -begotten gains.  \n",
      " \n",
      "And tonight I am announcing that we will join our allies in closing off American airspace to all Russian \n",
      "flights – further isolating Russia – and adding an additional squeeze on their economy. The Ruble has lost \n",
      "30% of its value. The Russian stock market h as lost 40% of its value and trading remains suspended. \n",
      "Russia’s economy is reeling and Putin alone is to blame.  \n",
      " \n",
      "Together with our allies, we are providing support to the Ukrainians in their fight for freedom. Military \n",
      "assistance. Economic assistance. Humanitarian assistance. We are giving more than $1 Billion in direct \n",
      "assistance to Ukraine. And we will continue to aid the Ukrainian people as they defend their country and \n",
      "to help ease their suffering.  \n",
      " \n",
      "Let me be clear, our forces are not engaged and will not engage in conflict with Russian forces in Ukraine. \n",
      "Our forces are not going to Europe to fight in Ukraine, but to defend our NATO Allies – in the event that \n",
      "Putin decides to keep moving west. For tha t purpose, we’ve mobilized American ground forces, air \n",
      "squadrons, and ship deployments to protect NATO countries including Poland, Romania, Latvia, \n",
      "Lithuania, and Estonia.  \n",
      " \n",
      "As I have made crystal clear, the United States and our Allies will defend every inch of territory of NATO \n",
      "countries with the full force of our collective power. And we remain clear -eyed. The Ukrainians are \n",
      "fighting back with pure courage. But the next few  days, weeks, months, will be hard on them. Putin has \n",
      "unleashed violence and chaos. But while he may make gains on the battlefield – he will pay a continuing \n",
      "high price over the long run. And a proud Ukrainian people, who have known 30 years of independenc e, \n",
      "have repeatedly shown that they will not tolerate anyone who tries to take their country backward.   \n",
      "To all Americans, I will be honest with you, as I’ve always promised. A Russian dictator, invading a foreign \n",
      "country, has costs around the world. And I’m taking robust action to make sure the pain of our sanctions \n",
      "is targeted at Russia’s economy. And I wil l use every tool at our disposal to protect American businesses \n",
      "and consumers.  \n",
      " \n",
      "Tonight, I can announce that the United States has worked with 30 other countries to release 60 Million \n",
      "barrels of oil from reserves around the world. America will lead that effort, releasing 30 Million barrels \n",
      "from our own Strategic Petroleum Reserve. And  we stand ready to do more if necessary, unified with our \n",
      "allies. These steps will help blunt gas prices here at home. And I know the news about what’s happening \n",
      "can seem alarming. But I want you to know that we are going to be okay.  \n",
      " \n",
      "When the history of this era is written Putin’s war on Ukraine will have left Russia weaker and the rest of \n",
      "the world stronger. While it shouldn’t have taken something so terrible for people around the world to \n",
      "see what’s at stake now everyone sees it clea rly. We see the unity among leaders of nations and a more \n",
      "unified Europe a more unified West. And we see unity among the people who are gathering in cities in \n",
      "large crowds around the world even in Russia to demonstrate their support for Ukraine.  \n",
      " \n",
      "In the battle between democracy and autocracy, democracies are rising to the moment, and the world is \n",
      "clearly choosing the side of peace and security. This is a real test. It’s going to take time. So let us \n",
      "continue to draw inspiration from the iron will o f the Ukrainian people. To our fellow Ukrainian \n",
      "Americans who forge a deep bond that connects our two nations, we stand with you. Putin may circle \n",
      "Kyiv with tanks, but he will never gain the hearts and souls of the Ukrainian people. He will never \n",
      "extinguis h their love of freedom. He will never weaken the resolve of the free world.  \n",
      " \n",
      "We meet tonight in an America that has lived through two of the hardest years this nation has ever \n",
      "faced. The pandemic has been punishing.  \n"
     ]
    }
   ],
   "source": [
    "def get_pdf_text(pdf_path):\n",
    "    # Verifica se o caminho é um arquivo, não um diretório\n",
    "    if not os.path.isfile(pdf_path):\n",
    "        raise ValueError(f\"O caminho fornecido não é um arquivo: {pdf_path}\")\n",
    "\n",
    "    text = \"\"\n",
    "    pdf_reader = PdfReader(pdf_path)\n",
    "    for page in pdf_reader.pages:\n",
    "        text += page.extract_text()\n",
    "    return text\n",
    "\n",
    "# Caminho para o arquivo PDF\n",
    "pdf_path = \"/home/rafael/Downloads/chat-pdf-gemini/state_of_the_union.pdf\"\n",
    "\n",
    "# Extração do texto do PDF\n",
    "pdf_text = get_pdf_text(pdf_path)\n",
    "print(pdf_text)"
   ]
  },
  {
   "cell_type": "code",
   "execution_count": 20,
   "metadata": {},
   "outputs": [],
   "source": [
    "# converting text to chunks\n",
    "def get_chunks(raw_text):\n",
    "    text_splitter=CharacterTextSplitter(separator=\"\\n\",\n",
    "                                        chunk_size=1000,\n",
    "                                        chunk_overlap=200,\n",
    "                                        length_function=len)   \n",
    "    chunks=text_splitter.split_text(raw_text)\n",
    "    return chunks"
   ]
  },
  {
   "cell_type": "code",
   "execution_count": 21,
   "metadata": {},
   "outputs": [
    {
     "data": {
      "text/plain": [
       "['Madam Speaker, Madam Vice President, our First Lady and Second Gentleman. Members of Congress \\nand the Cabinet. Justices of the Supreme Court. My fellow Americans.  \\nLast year COVID -19 kept us apart. This year we are finally together again. Tonight, we meet as \\nDemocrats, Republicans, and Independents. But most importantly as Americans. With a duty to one \\nanother, to the American people, to the Constitution. And with an  unwavering resolve that freedom will \\nalways triumph over tyranny.  \\n \\nSix days ago, Russia’s Vladimir Putin sought to shake the foundations of the free world, thinking he could \\nmake it bend to his menacing ways. But he badly miscalculated. He thought he could roll into Ukraine \\nand the world would roll over. Instead, he met a  wall of strength he never imagined. He met the \\nUkrainian people. From President Zelenskyy to every Ukrainian, their fearlessness, their courage, their \\ndetermination, inspires the world.',\n",
       " 'Ukrainian people. From President Zelenskyy to every Ukrainian, their fearlessness, their courage, their \\ndetermination, inspires the world.  \\n \\nGroups of citizens blocking tanks with their bodies. Everyone from students to retirees, teachers turned \\nsoldiers defending their homeland. In this struggle, as President Zelenskyy said in his speech to the \\nEuropean Parliament, “Light will win over darknes s.” The Ukrainian Ambassador to the United States is \\nhere tonight. Let each of us here tonight in this Chamber send an unmistakable signal to Ukraine and to \\nthe world.  \\n \\nPlease rise if you are able and show that, Yes, we the United States of America stand with the Ukrainian \\npeople. Throughout our history, we’ve learned this lesson: when dictators do not pay a price for their \\naggression, they cause more chaos. They keep mov ing. And the costs and the threats to America and the \\nworld keep rising.',\n",
       " 'aggression, they cause more chaos. They keep mov ing. And the costs and the threats to America and the \\nworld keep rising.  \\n \\nThat’s why the NATO Alliance was created to secure peace and stability in Europe after World War 2. The \\nUnited States is a member, along with 29 other nations. It matters. American diplomacy matters. \\nAmerican resolve matters. Putin’s latest attack on Ukrai ne was premeditated and unprovoked. He \\nrejected repeated efforts at diplomacy. He thought the West and NATO wouldn’t respond. And he \\nthought he could divide us at home. Putin was wrong. We were ready. Here is what we did.  \\n \\nWe prepared extensively and carefully. We spent months building a coalition of other freedom -loving \\nnations from Europe and the Americas to Asia and Africa to confront Putin. I spent countless hours \\nunifying our European allies. We shared with the world in  advance what we knew Putin was planning',\n",
       " 'nations from Europe and the Americas to Asia and Africa to confront Putin. I spent countless hours \\nunifying our European allies. We shared with the world in  advance what we knew Putin was planning \\nand precisely how he would try to falsely justify his aggression. We countered Russia’s lies with truth. \\nAnd now that he has acted, the free world is holding him accountable.  \\n Along with twenty -seven members of the European Union, including France, Germany, Italy, as well as \\ncountries like the United Kingdom, Canada, Japan, Korea, Australia, New Zealand, and many others, even \\nSwitzerland. We are inflicting pain on Russia and sup porting the people of Ukraine. Putin is now isolated \\nfrom the world more than ever.  \\n \\nTogether with our allies, we are right now enforcing powerful economic sanctions. We are cutting off \\nRussia’s largest banks from the international financial system. Preventing Russia’s central bank from',\n",
       " 'Russia’s largest banks from the international financial system. Preventing Russia’s central bank from \\ndefending the Russian Ruble, making Putin’s $630 Bill ion “war fund” worthless. We are choking off \\nRussia’s access to technology that will sap its economic strength and weaken its military for years to \\ncome.  \\n \\nTonight I say to the Russian oligarchs and corrupt leaders who have bilked billions of dollars off this \\nviolent regime: no more. The U.S. Department of Justice is assembling a dedicated task force to go after \\nthe crimes of Russian oligarchs. We are joining  with our European allies to find and seize your yachts, \\nyour luxury apartments, your private jets. We are coming for your ill -begotten gains.  \\n \\nAnd tonight I am announcing that we will join our allies in closing off American airspace to all Russian \\nflights – further isolating Russia – and adding an additional squeeze on their economy. The Ruble has lost',\n",
       " 'flights – further isolating Russia – and adding an additional squeeze on their economy. The Ruble has lost \\n30% of its value. The Russian stock market h as lost 40% of its value and trading remains suspended. \\nRussia’s economy is reeling and Putin alone is to blame.  \\n \\nTogether with our allies, we are providing support to the Ukrainians in their fight for freedom. Military \\nassistance. Economic assistance. Humanitarian assistance. We are giving more than $1 Billion in direct \\nassistance to Ukraine. And we will continue to aid the Ukrainian people as they defend their country and \\nto help ease their suffering.  \\n \\nLet me be clear, our forces are not engaged and will not engage in conflict with Russian forces in Ukraine. \\nOur forces are not going to Europe to fight in Ukraine, but to defend our NATO Allies – in the event that \\nPutin decides to keep moving west. For tha t purpose, we’ve mobilized American ground forces, air',\n",
       " 'Putin decides to keep moving west. For tha t purpose, we’ve mobilized American ground forces, air \\nsquadrons, and ship deployments to protect NATO countries including Poland, Romania, Latvia, \\nLithuania, and Estonia.  \\n \\nAs I have made crystal clear, the United States and our Allies will defend every inch of territory of NATO \\ncountries with the full force of our collective power. And we remain clear -eyed. The Ukrainians are \\nfighting back with pure courage. But the next few  days, weeks, months, will be hard on them. Putin has \\nunleashed violence and chaos. But while he may make gains on the battlefield – he will pay a continuing \\nhigh price over the long run. And a proud Ukrainian people, who have known 30 years of independenc e, \\nhave repeatedly shown that they will not tolerate anyone who tries to take their country backward.   \\nTo all Americans, I will be honest with you, as I’ve always promised. A Russian dictator, invading a foreign',\n",
       " 'To all Americans, I will be honest with you, as I’ve always promised. A Russian dictator, invading a foreign \\ncountry, has costs around the world. And I’m taking robust action to make sure the pain of our sanctions \\nis targeted at Russia’s economy. And I wil l use every tool at our disposal to protect American businesses \\nand consumers.  \\n \\nTonight, I can announce that the United States has worked with 30 other countries to release 60 Million \\nbarrels of oil from reserves around the world. America will lead that effort, releasing 30 Million barrels \\nfrom our own Strategic Petroleum Reserve. And  we stand ready to do more if necessary, unified with our \\nallies. These steps will help blunt gas prices here at home. And I know the news about what’s happening \\ncan seem alarming. But I want you to know that we are going to be okay.  \\n \\nWhen the history of this era is written Putin’s war on Ukraine will have left Russia weaker and the rest of',\n",
       " 'can seem alarming. But I want you to know that we are going to be okay.  \\n \\nWhen the history of this era is written Putin’s war on Ukraine will have left Russia weaker and the rest of \\nthe world stronger. While it shouldn’t have taken something so terrible for people around the world to \\nsee what’s at stake now everyone sees it clea rly. We see the unity among leaders of nations and a more \\nunified Europe a more unified West. And we see unity among the people who are gathering in cities in \\nlarge crowds around the world even in Russia to demonstrate their support for Ukraine.  \\n \\nIn the battle between democracy and autocracy, democracies are rising to the moment, and the world is \\nclearly choosing the side of peace and security. This is a real test. It’s going to take time. So let us \\ncontinue to draw inspiration from the iron will o f the Ukrainian people. To our fellow Ukrainian \\nAmericans who forge a deep bond that connects our two nations, we stand with you. Putin may circle',\n",
       " 'continue to draw inspiration from the iron will o f the Ukrainian people. To our fellow Ukrainian \\nAmericans who forge a deep bond that connects our two nations, we stand with you. Putin may circle \\nKyiv with tanks, but he will never gain the hearts and souls of the Ukrainian people. He will never \\nextinguis h their love of freedom. He will never weaken the resolve of the free world.  \\n \\nWe meet tonight in an America that has lived through two of the hardest years this nation has ever \\nfaced. The pandemic has been punishing.']"
      ]
     },
     "execution_count": 21,
     "metadata": {},
     "output_type": "execute_result"
    }
   ],
   "source": [
    "chunks = get_chunks(pdf_text)\n",
    "chunks"
   ]
  },
  {
   "cell_type": "code",
   "execution_count": 22,
   "metadata": {},
   "outputs": [],
   "source": [
    "# using all-MiniLm embeddings model and faiss to get vectorstore\n",
    "def get_vectorstore(chunks):\n",
    "    embeddings=HuggingFaceEmbeddings(model_name=\"sentence-transformers/all-MiniLM-L6-v2\",model_kwargs={'device':'cpu'})\n",
    "    vectorstore=faiss.FAISS.from_texts(texts=chunks,embedding=embeddings)\n",
    "    return vectorstore"
   ]
  },
  {
   "cell_type": "code",
   "execution_count": 24,
   "metadata": {},
   "outputs": [
    {
     "data": {
      "text/plain": [
       "<langchain_community.vectorstores.faiss.FAISS at 0x7fd1e84e6b60>"
      ]
     },
     "execution_count": 24,
     "metadata": {},
     "output_type": "execute_result"
    }
   ],
   "source": [
    "vectorstore = get_vectorstore(chunks)\n",
    "vectorstore"
   ]
  },
  {
   "cell_type": "code",
   "execution_count": 25,
   "metadata": {},
   "outputs": [],
   "source": [
    "# generating conversation chain  \n",
    "def get_conversationchain(vectorstore):\n",
    "    memory = ConversationBufferMemory(memory_key='chat_history', \n",
    "                                        return_messages=True,\n",
    "                                        output_key='answer') # using conversation buffer memory to hold past information\n",
    "    conversation_chain = ConversationalRetrievalChain.from_llm(\n",
    "                                llm=llm,\n",
    "                                retriever=vectorstore.as_retriever(),\n",
    "                                condense_question_prompt=CUSTOM_QUESTION_PROMPT,\n",
    "                                memory=memory)\n",
    "    return conversation_chain"
   ]
  },
  {
   "cell_type": "code",
   "execution_count": 26,
   "metadata": {},
   "outputs": [
    {
     "data": {
      "text/plain": [
       "ConversationalRetrievalChain(memory=ConversationBufferMemory(output_key='answer', return_messages=True, memory_key='chat_history'), combine_docs_chain=StuffDocumentsChain(llm_chain=LLMChain(prompt=ChatPromptTemplate(input_variables=['context', 'question'], messages=[SystemMessagePromptTemplate(prompt=PromptTemplate(input_variables=['context'], template=\"Use the following pieces of context to answer the user's question. \\nIf you don't know the answer, just say that you don't know, don't try to make up an answer.\\n----------------\\n{context}\")), HumanMessagePromptTemplate(prompt=PromptTemplate(input_variables=['question'], template='{question}'))]), llm=ChatGoogleGenerativeAI(model='models/gemini-1.5-flash', temperature=0.0, top_k=10, max_output_tokens=256, safety_settings={<HarmCategory.HARM_CATEGORY_DANGEROUS_CONTENT: 10>: <HarmBlockThreshold.BLOCK_NONE: 4>, <HarmCategory.HARM_CATEGORY_HATE_SPEECH: 8>: <HarmBlockThreshold.BLOCK_NONE: 4>, <HarmCategory.HARM_CATEGORY_HARASSMENT: 7>: <HarmBlockThreshold.BLOCK_NONE: 4>, <HarmCategory.HARM_CATEGORY_SEXUALLY_EXPLICIT: 9>: <HarmBlockThreshold.BLOCK_NONE: 4>}, client=<google.ai.generativelanguage_v1beta.services.generative_service.client.GenerativeServiceClient object at 0x7fd36e8cf730>, async_client=<google.ai.generativelanguage_v1beta.services.generative_service.async_client.GenerativeServiceAsyncClient object at 0x7fd337893040>, default_metadata=())), document_variable_name='context'), question_generator=LLMChain(prompt=PromptTemplate(input_variables=['chat_history', 'question'], template='Given the following conversation and a follow up question, rephrase the follow up question to be a standalone question, in its original language.\\nChat History:\\n{chat_history}\\nFollow Up Input: {question}\\nStandalone question:'), llm=ChatGoogleGenerativeAI(model='models/gemini-1.5-flash', temperature=0.0, top_k=10, max_output_tokens=256, safety_settings={<HarmCategory.HARM_CATEGORY_DANGEROUS_CONTENT: 10>: <HarmBlockThreshold.BLOCK_NONE: 4>, <HarmCategory.HARM_CATEGORY_HATE_SPEECH: 8>: <HarmBlockThreshold.BLOCK_NONE: 4>, <HarmCategory.HARM_CATEGORY_HARASSMENT: 7>: <HarmBlockThreshold.BLOCK_NONE: 4>, <HarmCategory.HARM_CATEGORY_SEXUALLY_EXPLICIT: 9>: <HarmBlockThreshold.BLOCK_NONE: 4>}, client=<google.ai.generativelanguage_v1beta.services.generative_service.client.GenerativeServiceClient object at 0x7fd36e8cf730>, async_client=<google.ai.generativelanguage_v1beta.services.generative_service.async_client.GenerativeServiceAsyncClient object at 0x7fd337893040>, default_metadata=())), retriever=VectorStoreRetriever(tags=['FAISS', 'HuggingFaceEmbeddings'], vectorstore=<langchain_community.vectorstores.faiss.FAISS object at 0x7fd1e84e6b60>))"
      ]
     },
     "execution_count": 26,
     "metadata": {},
     "output_type": "execute_result"
    }
   ],
   "source": [
    "conversation_chain = get_conversationchain(vectorstore)\n",
    "conversation_chain"
   ]
  },
  {
   "cell_type": "code",
   "execution_count": 27,
   "metadata": {},
   "outputs": [
    {
     "data": {
      "text/plain": [
       "{'question': 'what sanctions have been placed on Russia',\n",
       " 'chat_history': [HumanMessage(content='what sanctions have been placed on Russia'),\n",
       "  AIMessage(content='The text describes several sanctions placed on Russia:\\n\\n* **Economic sanctions:**\\n    * Cutting off Russia\\'s largest banks from the international financial system.\\n    * Preventing Russia\\'s central bank from defending the Russian Ruble, making Putin\\'s \"war fund\" worthless.\\n    * Choking off Russia\\'s access to technology to weaken its economy and military.\\n    * Closing off American airspace to all Russian flights.\\n* **Targeting oligarchs:**\\n    * Assembling a task force to go after the crimes of Russian oligarchs.\\n    * Seizing their yachts, luxury apartments, and private jets.\\n\\nThe text also mentions the release of 60 million barrels of oil from reserves around the world, including 30 million barrels from the US Strategic Petroleum Reserve, to help blunt gas prices. \\n')],\n",
       " 'answer': 'The text describes several sanctions placed on Russia:\\n\\n* **Economic sanctions:**\\n    * Cutting off Russia\\'s largest banks from the international financial system.\\n    * Preventing Russia\\'s central bank from defending the Russian Ruble, making Putin\\'s \"war fund\" worthless.\\n    * Choking off Russia\\'s access to technology to weaken its economy and military.\\n    * Closing off American airspace to all Russian flights.\\n* **Targeting oligarchs:**\\n    * Assembling a task force to go after the crimes of Russian oligarchs.\\n    * Seizing their yachts, luxury apartments, and private jets.\\n\\nThe text also mentions the release of 60 million barrels of oil from reserves around the world, including 30 million barrels from the US Strategic Petroleum Reserve, to help blunt gas prices. \\n'}"
      ]
     },
     "execution_count": 27,
     "metadata": {},
     "output_type": "execute_result"
    }
   ],
   "source": [
    "conversation_chain.invoke('what sanctions have been placed on Russia')"
   ]
  }
 ],
 "metadata": {
  "kernelspec": {
   "display_name": "gemini-rag-api",
   "language": "python",
   "name": "python3"
  },
  "language_info": {
   "codemirror_mode": {
    "name": "ipython",
    "version": 3
   },
   "file_extension": ".py",
   "mimetype": "text/x-python",
   "name": "python",
   "nbconvert_exporter": "python",
   "pygments_lexer": "ipython3",
   "version": "3.10.14"
  }
 },
 "nbformat": 4,
 "nbformat_minor": 2
}
